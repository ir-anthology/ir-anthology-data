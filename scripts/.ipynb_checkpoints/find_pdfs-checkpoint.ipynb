{
 "cells": [
  {
   "cell_type": "code",
   "execution_count": 1,
   "id": "06c88c97",
   "metadata": {},
   "outputs": [],
   "source": [
    "from pybtex.database.input import bibtex\n",
    "import pybtex.errors\n",
    "import biblib\n",
    "from urllib.parse import unquote\n",
    "import os\n",
    "import bibtexparser\n",
    "from tqdm import tqdm\n",
    "import json\n",
    "\n",
    "pybtex.errors.set_strict_mode(False)"
   ]
  },
  {
   "cell_type": "code",
   "execution_count": 2,
   "id": "6ecdc13e",
   "metadata": {},
   "outputs": [],
   "source": [
    "bibtex_file = open(\"/home/jason/Dokumente/work/webis/ir-anthology/ir-anthology-data/ir-anthology.bib\", \"r\")\n",
    "bib_database = bibtexparser.load(bibtex_file)\n",
    "\n",
    "acronym_file=open(\"/home/jason/Dokumente/work/webis/ir-anthology/ir-anthology-data/criteria.bib\",\"r\")\n",
    "acro_database=bibtexparser.load(acronym_file)"
   ]
  },
  {
   "cell_type": "code",
   "execution_count": 16,
   "id": "f3a8832e",
   "metadata": {},
   "outputs": [],
   "source": [
    "ceph_path=\"/home/jason/Dokumente/work/webis/ir-anthology/wlgc/papers-by-doi/\"\n",
    "wlgc_new=\"/home/jason/Dokumente/work/webis/ir-anthology/new_structure/\"\n",
    "new_bibs_json=open(\"/home/jason/Dokumente/work/webis/ir-anthology/new_structure_jsons/new_bibs_dirs.json\",\"w\")\n",
    "found_json=open(\"/home/jason/Dokumente/work/webis/ir-anthology/new_structure_jsons/found.json\",\"w\")\n",
    "not_found_json=open(\"/home/jason/Dokumente/work/webis/ir-anthology/new_structure_jsons/not_found.json\",\"w\")\n",
    "no_doi_json=open(\"/home/jason/Dokumente/work/webis/ir-anthology/new_structure_jsons/no_doi.json\",\"w\")\n",
    "new_bibs_dirs={}\n",
    "found_pdf={}\n",
    "not_found={}\n",
    "no_doi={}"
   ]
  },
  {
   "cell_type": "code",
   "execution_count": 17,
   "id": "eaf46a61",
   "metadata": {},
   "outputs": [
    {
     "name": "stderr",
     "output_type": "stream",
     "text": [
      " 23%|████████▍                            | 14176/62077 [11:55<40:17, 19.82it/s]\n"
     ]
    },
    {
     "ename": "FileNotFoundError",
     "evalue": "[Errno 2] No such file or directory: '/home/jason/Dokumente/work/webis/ir-anthology/wlgc/papers-by-doi/10.2200'",
     "output_type": "error",
     "traceback": [
      "\u001b[0;31m---------------------------------------------------------------------------\u001b[0m",
      "\u001b[0;31mFileNotFoundError\u001b[0m                         Traceback (most recent call last)",
      "Cell \u001b[0;32mIn[17], line 18\u001b[0m\n\u001b[1;32m     15\u001b[0m     \u001b[38;5;28;01mcontinue\u001b[39;00m\n\u001b[1;32m     17\u001b[0m \u001b[38;5;28;01melse\u001b[39;00m:\n\u001b[0;32m---> 18\u001b[0m     \u001b[38;5;28;01mfor\u001b[39;00m pdf \u001b[38;5;129;01min\u001b[39;00m \u001b[43mos\u001b[49m\u001b[38;5;241;43m.\u001b[39;49m\u001b[43mlistdir\u001b[49m\u001b[43m(\u001b[49m\u001b[43mceph_path\u001b[49m\u001b[43m \u001b[49m\u001b[38;5;241;43m+\u001b[39;49m\u001b[43m \u001b[49m\u001b[43mdoi_prefix\u001b[49m\u001b[43m)\u001b[49m:\n\u001b[1;32m     19\u001b[0m         pdf_url \u001b[38;5;241m=\u001b[39m unquote(pdf)\n\u001b[1;32m     21\u001b[0m         \u001b[38;5;28;01mif\u001b[39;00m pdf_url[:\u001b[38;5;241m-\u001b[39m\u001b[38;5;241m4\u001b[39m] \u001b[38;5;241m==\u001b[39m doi_suffix:\n\u001b[1;32m     22\u001b[0m \n\u001b[1;32m     23\u001b[0m             \u001b[38;5;66;03m#move to new folder /conference/year/bib_name\u001b[39;00m\n",
      "\u001b[0;31mFileNotFoundError\u001b[0m: [Errno 2] No such file or directory: '/home/jason/Dokumente/work/webis/ir-anthology/wlgc/papers-by-doi/10.2200'"
     ]
    }
   ],
   "source": [
    "for bib_name, bib_entry in tqdm(bib_database.entries_dict.items()):\n",
    "        found=0\n",
    "        try:\n",
    "            doi = bib_entry[\"doi\"]\n",
    "        except:\n",
    "            no_doi[bib_name]=bib_entry\n",
    "            doi = \"0/0\"\n",
    "        \n",
    "        doi_url = unquote(doi)\n",
    "        doi_parts = doi_url.split(\"/\")\n",
    "        doi_prefix = doi_parts[0]\n",
    "        doi_suffix = doi_parts[1]\n",
    "\n",
    "        if doi_prefix==\"0\":\n",
    "            continue\n",
    "    \n",
    "        else:\n",
    "            try:\n",
    "                for pdf in os.listdir(ceph_path + doi_prefix):\n",
    "                    pdf_url = unquote(pdf)\n",
    "\n",
    "                    if pdf_url[:-4] == doi_suffix:\n",
    "\n",
    "                        #move to new folder /conference/year/bib_name\n",
    "                        source_id=bib_entry[\"sourceid\"]\n",
    "                        conference=source_id.split(\"/\")[1]\n",
    "\n",
    "                        #print(source_id)\n",
    "                        #print(source_id.split(\"/\"))\n",
    "                        if conference==\"www\" or conference==\"sigir\":\n",
    "                            if source_id.split(\"/\")[0] == \"DBLP:journals\":\n",
    "                                conference_acro=acro_database.entries_dict[\"CRITERIA:DBLP:\"+conference+\"journals\"][\"acronym\"]\n",
    "\n",
    "                            if source_id.split(\"/\")[0] == \"DBLP:conf\":\n",
    "                                conference_acro=acro_database.entries_dict[\"CRITERIA:DBLP:\"+conference+\"conf\"][\"acronym\"]\n",
    "\n",
    "                        else:\n",
    "                            conference_acro=acro_database.entries_dict[\"CRITERIA:DBLP:\"+conference][\"acronym\"]\n",
    "\n",
    "                        year=bib_entry[\"year\"]\n",
    "\n",
    "                        try:\n",
    "                            os.rename(ceph_path+doi_prefix+\"/\"+pdf,wlgc_new+str(conference_acro)+\"/\"+str(year)+\"/\"+bib_name+\".pdf\")\n",
    "                        except:\n",
    "                            os.makedirs(wlgc_new+str(conference_acro)+\"/\"+str(year)+\"/\")\n",
    "                            os.rename(ceph_path+doi_prefix+\"/\"+pdf,wlgc_new+str(conference_acro)+\"/\"+str(year)+\"/\"+bib_name+\".pdf\")\n",
    "\n",
    "                        new_bibs_dirs[bib_name]=wlgc_new+str(conference_acro)+\"/\"+str(year)+\"/\"\n",
    "                        found_pdf[bib_name]=[doi_url,ceph_path + doi_prefix + \"/\" + pdf]\n",
    "\n",
    "                        found = 1\n",
    "\n",
    "                if found == 0:\n",
    "                    # pdf not found\n",
    "                    # looking in subdirs for pdf\n",
    "\n",
    "                    alldirs = [dir[0] for dir in os.walk(ceph_path)]\n",
    "\n",
    "                    for direct in alldirs:\n",
    "                        for pdf in os.listdir(direct):\n",
    "                            if pdf.endswith(\".pdf\"):\n",
    "\n",
    "                                pdf_url = unquote(pdf)\n",
    "\n",
    "                                if pdf_url[:-4] == doi_suffix: \n",
    "                                    # pdf exists\n",
    "\n",
    "                                    os.rename(direct + pdf, bib_name) \n",
    "\n",
    "                                    try:\n",
    "                                        os.rename(ceph_path+doi_prefix+\"/\"+pdf,wlgc_new+str(conference_acro)+\"/\"+str(year)+\"/\"+bib_name+\".pdf\")\n",
    "                                    except:\n",
    "                                        os.makedirs(wlgc_new+str(conference_acro)+\"/\"+str(year)+\"/\")\n",
    "                                        os.rename(ceph_path+doi_prefix+\"/\"+pdf,wlgc_new+str(conference_acro)+\"/\"+str(year)+\"/\"+bib_name+\".pdf\")\n",
    "\n",
    "                                    found_pdf[bib_name]=[doi_url,ceph_path + doi_prefix + \"/\" + pdf]\n",
    "                                    new_bibs_dirs[bib_name]=wlgc_new+str(conference_acro)+\"/\"+str(year)+\"/\"\n",
    "\n",
    "                                    found = 1\n",
    "\n",
    "                            if found == 0:\n",
    "                                not_found[bib_name]=\"not found\"\n",
    "            \n",
    "            except:\n",
    "                not_found[bib_name]=\"not found\"\n",
    "                \n"
   ]
  },
  {
   "cell_type": "code",
   "execution_count": null,
   "id": "a7518c58",
   "metadata": {},
   "outputs": [],
   "source": [
    "print(\"found \",len(found_pdf))\n",
    "print(\"not found \",len(not_found))\n",
    "print(\"no doi \",len(no_doi))\n",
    "print(\"new bib dirs \",len(new_bibs_dirs))\n",
    "json.dump(new_bibs_dirs,new_bibs_json,indent=4, separators=(',', ': '))\n",
    "json.dump(found_pdf,found_json,indent=4, separators=(',', ': '))\n",
    "json.dump(not_found,not_found_json,indent=4, separators=(',', ': '))\n",
    "json.dump(no_doi,no_doi_json,indent=4, separators=(',', ': '))\n",
    "bibtex_file.close()\n",
    "new_bibs_json.close()\n",
    "no_doi_json.close()\n",
    "not_found_json.close()\n",
    "found_json.close()"
   ]
  },
  {
   "cell_type": "code",
   "execution_count": null,
   "id": "68df153c",
   "metadata": {},
   "outputs": [],
   "source": []
  },
  {
   "cell_type": "code",
   "execution_count": null,
   "id": "104f0e08",
   "metadata": {},
   "outputs": [],
   "source": []
  }
 ],
 "metadata": {
  "kernelspec": {
   "display_name": "Python 3 (ipykernel)",
   "language": "python",
   "name": "python3"
  },
  "language_info": {
   "codemirror_mode": {
    "name": "ipython",
    "version": 3
   },
   "file_extension": ".py",
   "mimetype": "text/x-python",
   "name": "python",
   "nbconvert_exporter": "python",
   "pygments_lexer": "ipython3",
   "version": "3.10.6"
  }
 },
 "nbformat": 4,
 "nbformat_minor": 5
}
