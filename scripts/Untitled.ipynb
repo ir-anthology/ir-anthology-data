{
 "cells": [
  {
   "cell_type": "code",
   "execution_count": 1,
   "id": "18bed116",
   "metadata": {},
   "outputs": [],
   "source": [
    "from pybtex.database.input import bibtex\n",
    "import pybtex.errors\n",
    "import biblib\n",
    "from urllib.parse import unquote\n",
    "import os\n",
    "import bibtexparser\n",
    "from tqdm import tqdm\n",
    "import json\n",
    "from collections import Counter\n",
    "\n",
    "pybtex.errors.set_strict_mode(False)"
   ]
  },
  {
   "cell_type": "code",
   "execution_count": 2,
   "id": "2ab57176",
   "metadata": {},
   "outputs": [],
   "source": [
    "bibtex_file = open(\"/home/jason/Dokumente/work/webis/ir-anthology/dummy-ir-antho/dummy.bib\", \"r\")\n",
    "bib_database = bibtexparser.load(bibtex_file)\n",
    "\n",
    "acronym_file=open(\"/home/jason/Dokumente/work/webis/ir-anthology/ir-anthology-data/criteria.bib\",\"r\")\n",
    "acro_database=bibtexparser.load(acronym_file)"
   ]
  },
  {
   "cell_type": "code",
   "execution_count": 12,
   "id": "265c0bb5",
   "metadata": {},
   "outputs": [
    {
     "name": "stdout",
     "output_type": "stream",
     "text": [
      "Counter({'jasis': 621})\n"
     ]
    }
   ],
   "source": [
    "# Define a dictionary\n",
    "my_dict = bib_database.entries_dict\n",
    "\n",
    "# Specify the key to count values for\n",
    "#key_to_count = 'sourceid'\n",
    "\n",
    "vals=[]\n",
    "\n",
    "for key,value in my_dict.items():\n",
    "    vals.append(value[\"sourceid\"].split(\"/\")[1])\n",
    "\n",
    "#print(vals)\n",
    "\n",
    "value_counts=Counter(vals)\n",
    "print(value_counts)\n",
    "\n",
    "#include this acronym lookup\n",
    "#include www exception scoobydoo"
   ]
  },
  {
   "cell_type": "code",
   "execution_count": null,
   "id": "2db68019",
   "metadata": {},
   "outputs": [],
   "source": []
  }
 ],
 "metadata": {
  "kernelspec": {
   "display_name": "Python 3 (ipykernel)",
   "language": "python",
   "name": "python3"
  },
  "language_info": {
   "codemirror_mode": {
    "name": "ipython",
    "version": 3
   },
   "file_extension": ".py",
   "mimetype": "text/x-python",
   "name": "python",
   "nbconvert_exporter": "python",
   "pygments_lexer": "ipython3",
   "version": "3.10.6"
  }
 },
 "nbformat": 4,
 "nbformat_minor": 5
}
